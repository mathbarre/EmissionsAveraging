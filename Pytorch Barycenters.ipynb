{
 "cells": [
  {
   "cell_type": "code",
   "execution_count": 1,
   "metadata": {},
   "outputs": [],
   "source": [
    "%matplotlib inline\n",
    "\n",
    "import numpy as np\n",
    "import torch\n",
    "\n",
    "import ot\n",
    "\n",
    "torch.set_default_tensor_type(torch.DoubleTensor)"
   ]
  },
  {
   "cell_type": "markdown",
   "metadata": {},
   "source": [
    "## Sinkhorn convolutional unbalanced barycenters (in torch) \n",
    "\n",
    "TODO: \n",
    "1. Track the error, and stop when smaller than threshold\n",
    "2. Add balanced barycenter\n",
    "3. Implement barycenter projection (using gradient descent on barycenter weights)"
   ]
  },
  {
   "cell_type": "code",
   "execution_count": 2,
   "metadata": {},
   "outputs": [],
   "source": [
    "\n",
    "def sep_kernel_prod(u, Cx, Cy, logspace=True):\n",
    "    \"\"\"\n",
    "        2D batch kernel/vector products, with a separable kernel\n",
    "    \"\"\"\n",
    "    if logspace:\n",
    "        x = -Cy[:, :, None] + u[:, None, :, :]\n",
    "        R = torch.logsumexp(x, dim=2)\n",
    "        y = -Cx[:, :, None] + R.permute(1, 0, 2)[:, None, :, :]\n",
    "        return torch.logsumexp(y, dim=2).permute(1, 0, 2)\n",
    "    else:\n",
    "        R = (Cy[:, None, : ] @ (u[:, None, :, :])).squeeze()\n",
    "        return (Cx[:, None, : ] @ R.permute(1, 0, 2)[:, None, :, :]).squeeze().permute(1, 0, 2)\n",
    "\n",
    "    \n",
    "def sk_barycenter_2D(A, Cx, Cy, reg, reg_m, weights=None, numItermax=1000, \n",
    "                     stopThr=1e-6, logspace=True, balanced=False):\n",
    "    \n",
    "    dimx, dimy, n_hists = A.shape\n",
    "    \n",
    "    if logspace:\n",
    "        Kx = Cx / reg\n",
    "        Ky = Cy / reg\n",
    "    else:\n",
    "        Kx = torch.exp(-Cx / reg)\n",
    "        Ky = torch.exp(-Cy / reg)\n",
    "    \n",
    "    if weights is None:\n",
    "        weights = torch.ones(n_hists) / n_hists\n",
    "    else:\n",
    "        assert(len(weights) == A.shape[2])\n",
    "\n",
    "    fi = reg_m / (reg + reg_m)\n",
    "\n",
    "    if logspace :\n",
    "        v = torch.zeros((dimx, dimy, n_hists))\n",
    "    else:\n",
    "        v= torch.ones((dimx, dimy, n_hists))\n",
    "    \n",
    "    for i in range(numItermax):\n",
    "\n",
    "        ### Update u\n",
    "        Kv = sep_kernel_prod(v, Kx, Ky, logspace)\n",
    "\n",
    "        if logspace:\n",
    "            u = fi * (np.log(A) - Kv)\n",
    "        else:\n",
    "            u = (A / Kv) ** fi\n",
    "\n",
    "        ### Form Barycentre\n",
    "        Ktu = sep_kernel_prod(u, Kx, Ky, logspace)\n",
    "        \n",
    "        if logspace:\n",
    "            q = (1 / (1 - fi)) * torch.logsumexp((1 - fi) * Ktu + weights.log()[None, None, :], dim=2)\n",
    "        else:\n",
    "            q = torch.sum(weights * Ktu ** (1-fi), dim=2) ** (1 / (1. - fi))\n",
    "\n",
    "        ### Update v\n",
    "        if logspace:\n",
    "            v = fi * (q[:, :, None] - Ktu)\n",
    "        else:\n",
    "            v = (q[:, : , None] / Ktu) ** fi\n",
    "                \n",
    "    if logspace:\n",
    "        return torch.exp(q) \n",
    "    else:\n",
    "        return q\n",
    "\n",
    "            \n",
    "            "
   ]
  },
  {
   "cell_type": "markdown",
   "metadata": {},
   "source": [
    "## Test"
   ]
  },
  {
   "cell_type": "code",
   "execution_count": 3,
   "metadata": {},
   "outputs": [],
   "source": [
    "## Generate data (images)\n",
    "\n",
    "A = torch.rand(3, 3, 4) / 2\n"
   ]
  },
  {
   "cell_type": "code",
   "execution_count": 4,
   "metadata": {},
   "outputs": [],
   "source": [
    "## Build distance matrices\n",
    "\n",
    "dimx, dimy = A.shape[:2]\n",
    "\n",
    "X = torch.arange(dimx).double()\n",
    "Y = torch.arange(dimy).double()\n",
    "\n",
    "Cx = ((X[:, None] - X)**2)\n",
    "Cy = ((Y[:, None] - Y)**2)\n",
    "\n",
    "X = np.column_stack(np.nonzero(np.ones((dimx,dimy))))\n",
    "M =((X[:, None] - X)**2).sum(2)\n",
    "\n",
    "m = M.max()\n",
    "\n",
    "Cx /= m\n",
    "Cy /= m\n",
    "M = M / m\n",
    "\n",
    "\n",
    "reg = 0.1\n",
    "reg_m = 0.5\n",
    "\n",
    "\n",
    "K = torch.exp(-torch.from_numpy(M)/reg).double()\n"
   ]
  },
  {
   "cell_type": "code",
   "execution_count": 5,
   "metadata": {
    "scrolled": true
   },
   "outputs": [
    {
     "data": {
      "text/plain": [
       "tensor([[0.3041, 0.3375, 0.2776],\n",
       "        [0.3276, 0.4086, 0.3002],\n",
       "        [0.3284, 0.4307, 0.2495]])"
      ]
     },
     "execution_count": 5,
     "metadata": {},
     "output_type": "execute_result"
    }
   ],
   "source": [
    "## In logspace\n",
    "sk_barycenter_2D(A, Cx, Cy, reg, reg_m, logspace=True, numItermax = 200)"
   ]
  },
  {
   "cell_type": "code",
   "execution_count": 6,
   "metadata": {},
   "outputs": [
    {
     "data": {
      "text/plain": [
       "tensor([[0.3041, 0.3375, 0.2776],\n",
       "        [0.3276, 0.4086, 0.3002],\n",
       "        [0.3284, 0.4307, 0.2495]])"
      ]
     },
     "execution_count": 6,
     "metadata": {},
     "output_type": "execute_result"
    }
   ],
   "source": [
    "## Not logspace\n",
    "sk_barycenter_2D(A, Cx, Cy, reg, reg_m, logspace=False, numItermax = 200)"
   ]
  },
  {
   "cell_type": "code",
   "execution_count": 7,
   "metadata": {
    "scrolled": true
   },
   "outputs": [
    {
     "data": {
      "text/plain": [
       "array([[0.30405808, 0.33746302, 0.27757692],\n",
       "       [0.32755265, 0.40861036, 0.3001976 ],\n",
       "       [0.32841249, 0.43068563, 0.24945079]])"
      ]
     },
     "execution_count": 7,
     "metadata": {},
     "output_type": "execute_result"
    }
   ],
   "source": [
    "ot.barycenter_unbalanced(A.reshape(dimx * dimy, -1).numpy(), M, reg, reg_m, \n",
    "                         method = 'sinkhorn', stopThr=1e-12).reshape(dimx, dimy)"
   ]
  }
 ],
 "metadata": {
  "kernelspec": {
   "display_name": "Python 3",
   "language": "python",
   "name": "python3"
  },
  "language_info": {
   "codemirror_mode": {
    "name": "ipython",
    "version": 3
   },
   "file_extension": ".py",
   "mimetype": "text/x-python",
   "name": "python",
   "nbconvert_exporter": "python",
   "pygments_lexer": "ipython3",
   "version": "3.7.7"
  }
 },
 "nbformat": 4,
 "nbformat_minor": 4
}
